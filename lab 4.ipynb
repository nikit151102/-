{
 "cells": [
  {
   "cell_type": "code",
   "execution_count": null,
   "metadata": {},
   "outputs": [],
   "source": [
    "import cv2\n",
    "import numpy as np\n",
    "import matplotlib.pyplot as plt"
   ]
  },
  {
   "cell_type": "code",
   "execution_count": null,
   "metadata": {},
   "outputs": [],
   "source": [
    "def img_hist_show(img, title_img, ax_hist):\n",
    "    ax_hist.hist(img[0].flatten(), bins=256, range=(0, 256), color='r', alpha=0.5, label='Оригинал')\n",
    "    ax_hist.hist(img[1].flatten(), bins=256, range=(0, 256), color='b', alpha=0.5, label='Преобразованное')\n",
    "    ax_hist.legend()\n",
    "    ax_hist.set_title(title_img)"
   ]
  },
  {
   "cell_type": "code",
   "execution_count": null,
   "metadata": {},
   "outputs": [],
   "source": [
    "def img_show(imgs, title='', ax=None):\n",
    "    ax.imshow(imgs , cmap='gray')\n",
    "    ax.set_title(title)"
   ]
  },
  {
   "cell_type": "code",
   "execution_count": null,
   "metadata": {},
   "outputs": [],
   "source": [
    "def transform_show(imgs,titles_hist):\n",
    "    fig, axs = plt.subplots(1, 3, figsize=(30, 10))\n",
    "    img_show( imgs[0],'Исходное',axs[0])\n",
    "    img_show( imgs[1],titles_hist,axs[1])\n",
    "    img_hist_show(imgs,'Гистограмма сравненния',axs[2])"
   ]
  },
  {
   "cell_type": "code",
   "execution_count": null,
   "metadata": {},
   "outputs": [],
   "source": [
    "def apply_filter(image, kernel_size, filter_type):\n",
    "    if filter_type == 'mean':\n",
    "        return cv2.blur(image, (kernel_size, kernel_size))\n",
    "    elif filter_type == 'gaussian':\n",
    "        return cv2.GaussianBlur(image, (kernel_size, kernel_size), 0)\n",
    "    elif filter_type == 'median':\n",
    "        return cv2.medianBlur(image, kernel_size)\n",
    "\n",
    "     "
   ]
  },
  {
   "cell_type": "code",
   "execution_count": null,
   "metadata": {},
   "outputs": [],
   "source": [
    "def get_filter(type, img):\n",
    "    # Размеры ядер\n",
    "    kernel_sizes = [3, 5, 7, 9]\n",
    "    for kernel_size in kernel_sizes:\n",
    "        # Применяем фильтр\n",
    "        filtered_image = apply_filter(img, kernel_size, type)\n",
    "        # Отображаем результаты\n",
    "        transform_show([img, filtered_image],f'Фильтр {type}, Ядро {kernel_size}x{kernel_size}')"
   ]
  },
  {
   "cell_type": "code",
   "execution_count": null,
   "metadata": {},
   "outputs": [],
   "source": [
    "# Загрузка изображения\n",
    "img1 = cv2.imread('lab4/Bri.jpg')\n",
    "img2 = cv2.imread('lab4/Building.jpg')\n",
    "img3 = cv2.imread('lab4/Camera.jpg')\n",
    "img4 = cv2.imread('lab4/Light.jpg')\n",
    "img5 = cv2.imread('lab4/Noisy Lena.jpg')\n",
    "img6 = cv2.imread('lab4/Statue.jpg')\n",
    "img7 = cv2.imread('lab4/Truck.jpg')\n"
   ]
  },
  {
   "cell_type": "code",
   "execution_count": null,
   "metadata": {},
   "outputs": [],
   "source": [
    "# Типы фильтров\n",
    "filter_types = ['mean', 'gaussian', 'median']"
   ]
  },
  {
   "cell_type": "code",
   "execution_count": null,
   "metadata": {},
   "outputs": [],
   "source": [
    "get_filter(filter_types[0],img1)"
   ]
  },
  {
   "cell_type": "code",
   "execution_count": null,
   "metadata": {},
   "outputs": [],
   "source": [
    "get_filter(filter_types[1],img1)"
   ]
  },
  {
   "cell_type": "code",
   "execution_count": null,
   "metadata": {},
   "outputs": [],
   "source": [
    "get_filter(filter_types[2],img1)"
   ]
  },
  {
   "cell_type": "code",
   "execution_count": null,
   "metadata": {},
   "outputs": [],
   "source": [
    "get_filter(filter_types[0],img2)"
   ]
  },
  {
   "cell_type": "code",
   "execution_count": null,
   "metadata": {},
   "outputs": [],
   "source": [
    "get_filter(filter_types[1],img2)"
   ]
  },
  {
   "cell_type": "code",
   "execution_count": null,
   "metadata": {},
   "outputs": [],
   "source": [
    "get_filter(filter_types[2],img2)"
   ]
  },
  {
   "cell_type": "code",
   "execution_count": null,
   "metadata": {},
   "outputs": [],
   "source": [
    "get_filter(filter_types[0],img3)"
   ]
  },
  {
   "cell_type": "code",
   "execution_count": null,
   "metadata": {},
   "outputs": [],
   "source": [
    "get_filter(filter_types[1],img4)"
   ]
  },
  {
   "cell_type": "code",
   "execution_count": null,
   "metadata": {},
   "outputs": [],
   "source": [
    "get_filter(filter_types[2],img5)"
   ]
  },
  {
   "cell_type": "code",
   "execution_count": null,
   "metadata": {},
   "outputs": [],
   "source": [
    "get_filter(filter_types[2],img6)"
   ]
  },
  {
   "cell_type": "code",
   "execution_count": null,
   "metadata": {},
   "outputs": [],
   "source": [
    "get_filter(filter_types[2],img7)"
   ]
  },
  {
   "cell_type": "markdown",
   "metadata": {},
   "source": [
    "."
   ]
  },
  {
   "cell_type": "markdown",
   "metadata": {},
   "source": [
    "."
   ]
  },
  {
   "cell_type": "markdown",
   "metadata": {},
   "source": [
    "."
   ]
  },
  {
   "cell_type": "markdown",
   "metadata": {},
   "source": [
    "."
   ]
  },
  {
   "cell_type": "markdown",
   "metadata": {},
   "source": [
    "2. С использованием filter2D реализуйте фильтры Превитта, Собеля и\n",
    "Робертса. Что можно сказать про результаты фильтрации? Что можно сказать\n",
    "про полученные изображения на основе анализа гистограмм?"
   ]
  },
  {
   "cell_type": "code",
   "execution_count": null,
   "metadata": {},
   "outputs": [],
   "source": [
    "def get_filter2(img, type):\n",
    "    kernel= ''\n",
    "    if type == 'Previtta':\n",
    "        kernel = np.array([\n",
    "                        [1, 1, 1],\n",
    "                        [0, 0, 0],\n",
    "                        [-1, -1, -1]\n",
    "                        ])\n",
    "    if type == 'Sobel':\n",
    "        kernel = np.array([\n",
    "                        [-1, -1, -1],\n",
    "                        [-1, 8, -1],\n",
    "                        [-1, -1, -1]\n",
    "                        ])\n",
    "    if type == 'Robertsa':\n",
    "        kernel = np.array([\n",
    "                        [1, -1],\n",
    "                        [-1, 1,]\n",
    "                        ])\n",
    "\n",
    "    transform_show([img, cv2.filter2D(img, -1, np.array(kernel, np.float32))],f'Фильтр {type}')"
   ]
  },
  {
   "cell_type": "code",
   "execution_count": null,
   "metadata": {},
   "outputs": [],
   "source": [
    "def view_filter(img):\n",
    "\n",
    "    type_filters = ['Previtta', 'Sobel', 'Robertsa']\n",
    "\n",
    "    for type in type_filters:\n",
    "        get_filter2(img, type)"
   ]
  },
  {
   "cell_type": "code",
   "execution_count": null,
   "metadata": {},
   "outputs": [],
   "source": [
    "view_filter(img1)"
   ]
  },
  {
   "cell_type": "code",
   "execution_count": null,
   "metadata": {},
   "outputs": [],
   "source": [
    "view_filter(img2)"
   ]
  },
  {
   "cell_type": "code",
   "execution_count": null,
   "metadata": {},
   "outputs": [],
   "source": [
    "view_filter(img3)"
   ]
  },
  {
   "cell_type": "code",
   "execution_count": null,
   "metadata": {},
   "outputs": [],
   "source": [
    "view_filter(img4)"
   ]
  },
  {
   "cell_type": "code",
   "execution_count": null,
   "metadata": {},
   "outputs": [],
   "source": [
    "view_filter(img5)"
   ]
  },
  {
   "cell_type": "code",
   "execution_count": null,
   "metadata": {},
   "outputs": [],
   "source": [
    "view_filter(img6)"
   ]
  },
  {
   "cell_type": "code",
   "execution_count": null,
   "metadata": {},
   "outputs": [],
   "source": [
    "view_filter(img7)"
   ]
  },
  {
   "cell_type": "code",
   "execution_count": null,
   "metadata": {},
   "outputs": [],
   "source": []
  }
 ],
 "metadata": {
  "kernelspec": {
   "display_name": "Python 3",
   "language": "python",
   "name": "python3"
  },
  "language_info": {
   "codemirror_mode": {
    "name": "ipython",
    "version": 3
   },
   "file_extension": ".py",
   "mimetype": "text/x-python",
   "name": "python",
   "nbconvert_exporter": "python",
   "pygments_lexer": "ipython3",
   "version": "3.12.1"
  }
 },
 "nbformat": 4,
 "nbformat_minor": 2
}
