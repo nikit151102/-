{
 "cells": [
  {
   "cell_type": "markdown",
   "metadata": {},
   "source": [
    "Лаб 1"
   ]
  },
  {
   "cell_type": "code",
   "execution_count": null,
   "metadata": {},
   "outputs": [],
   "source": [
    "from PIL import Image\n",
    "from PIL import ImageDraw\n",
    "import random"
   ]
  },
  {
   "cell_type": "code",
   "execution_count": null,
   "metadata": {},
   "outputs": [],
   "source": [
    "width, height = 600, 600 \n",
    "newImage = Image.new(\"RGB\", (width, height))\n",
    "draw = ImageDraw.Draw(newImage)"
   ]
  },
  {
   "cell_type": "code",
   "execution_count": null,
   "metadata": {},
   "outputs": [],
   "source": [
    "draw.rectangle(((0, 0), (width, height * 0.8)), '#0e2d7d') #фон основной "
   ]
  },
  {
   "cell_type": "code",
   "execution_count": null,
   "metadata": {},
   "outputs": [],
   "source": [
    "def random_points(draw_to_Image, num_points, width, height):\n",
    "    points = []\n",
    "    for _ in range(num_points):\n",
    "        x = random.randint(0, width)\n",
    "        y = random.randint(0, height)\n",
    "        points.append((x, y))\n",
    "    for point in points:\n",
    "        draw_to_Image.rectangle((point, (point[0] + 2, point[1] + 2)), '#e2ff91')"
   ]
  },
  {
   "cell_type": "code",
   "execution_count": null,
   "metadata": {},
   "outputs": [],
   "source": [
    "def draw_tree(draw_to_Image, width, height, x, y):\n",
    "\n",
    "    trunk_x = int(0.138 * width) + x\n",
    "    trunk_y = int(0.93 * height) + y- 17\n",
    "    trunk_width = int(0.03 * width)\n",
    "    trunk_height = int(0.06 * height)\n",
    "    tree_trunk = ((trunk_x, trunk_y), (trunk_x + trunk_width, trunk_y + trunk_height))\n",
    "    \n",
    "    draw_to_Image.polygon(( (int(0.1 * width) + x, int(0.9 * height) + y), \n",
    "        (int(0.15 * width) + x, int(0.7 * height) + y),\n",
    "        (int(0.2 * width) + x, int(0.9 * height) + y)), '#1e6428')\n",
    "    draw_to_Image.rectangle(tree_trunk, 'brown')"
   ]
  },
  {
   "cell_type": "code",
   "execution_count": null,
   "metadata": {},
   "outputs": [],
   "source": [
    "class Tree:\n",
    "    def __init__(self, draw_to_Image, width, height, x, y):\n",
    "        self.draw = draw_to_Image\n",
    "        self.width = width\n",
    "        self.height = height\n",
    "        self.x = x\n",
    "        self.y = y\n",
    "    \n",
    "    def draw_trunk(self):\n",
    "        trunk_x = int(0.138 * self.width) + self.x\n",
    "        trunk_y = int(0.4 * self.height) + self.y - 17\n",
    "        trunk_width = int(0.03 * self.width)\n",
    "        trunk_height = int(0.06 * self.height)\n",
    "        tree_trunk = ((trunk_x, trunk_y), (trunk_x + trunk_width, trunk_y + trunk_height))\n",
    "        self.draw.rectangle(tree_trunk, 'brown')\n",
    "    \n",
    "    def draw_top(self):\n",
    "        tree_top_points = [\n",
    "            (int(0.1 * self.width) + self.x, int(0.4 * self.height) + self.y),\n",
    "            (int(0.15 * self.width) + self.x, int(0.2 * self.height) + self.y),\n",
    "            (int(0.2 * self.width) + self.x, int(0.4 * self.height) + self.y),\n",
    "        ]\n",
    "        self.draw.polygon(tree_top_points, '#1e6428')\n",
    "\n",
    "    def draw_tree(self):\n",
    "        self.draw_trunk()\n",
    "        self.draw_top()\n",
    "        \n"
   ]
  },
  {
   "cell_type": "code",
   "execution_count": null,
   "metadata": {},
   "outputs": [],
   "source": [
    "class House:\n",
    "    def __init__(self, width, height, draw_image):\n",
    "        self.width = width\n",
    "        self.height = height\n",
    "        self.draw = draw_image\n",
    "    \n",
    "    def draw_house(self, count_floors):\n",
    "        #  крыша\n",
    "        self.draw.polygon(((int(0.3 * width), int(0.4 * height)), \n",
    "                (int(0.7 * width), int(0.4 * height)),\n",
    "                (int(0.5 * width), int(0.3 * height))),\n",
    "                '#858585')\n",
    "        \n",
    "        # труба\n",
    "        self.draw.rectangle(((int(0.55 * width), int(0.36 * height) - int(0.06 * height)), \n",
    "                        (int(0.55 * width) + int(0.03 * width), int(0.36 * height) - int(0.06 * height) + int(0.06 * height)  )), \n",
    "                        'brown',outline='black')\n",
    "        # этажи\n",
    "        self._draw_floors(count_floors)\n",
    "    \n",
    "        # дверь  \n",
    "        self.draw.rectangle(((int(0.485 * width), int(0.89 * height) - int(0.06 * height)), \n",
    "                        (int(0.485 * width) + int(0.03 * width), int(0.89 * height) - int(0.06 * height) + int(0.06 * height)  )), \n",
    "                        'brown',outline='black')\n",
    "        \n",
    "    def _draw_floors(self, count):\n",
    "    # Рисуем дом\n",
    "        for i in range(count):\n",
    "            self.draw.rectangle(((int(0.3 * self.width), int((0.4 + 0.1 * i) * self.height)), \n",
    "                            (int(0.7 * self.width), int((0.5 + 0.1 * i) * self.height))), '#935a52')\n",
    "            if i % 2 == 0:  # Если четный этаж, рисуем свет в окнах\n",
    "                colors = ('yellow', '#595959') * 2\n",
    "            else:\n",
    "                colors = ('#595959', 'yellow') * 2\n",
    "            for j, x_start in enumerate([0.31, 0.41, 0.53, 0.61]):\n",
    "                self._draw_window(x_start, x_start + 0.06, i, colors[j])\n",
    "\n",
    "    def _draw_window(self, x_start, x_end, count, color):\n",
    "        window_coords = ((int(x_start * self.width), int((0.42 + 0.1 * count) * self.height)), \n",
    "                        (int(x_end * self.width), int((0.48 + 0.1 * count) * self.height)))\n",
    "        self.draw.rectangle(window_coords, color, outline='black')\n"
   ]
  },
  {
   "cell_type": "code",
   "execution_count": null,
   "metadata": {},
   "outputs": [],
   "source": [
    "def month(draw_to_img):\n",
    "    draw_to_img.ellipse(((20, 20),\n",
    "                  (int(0.2 * width), int(0.2 * height))),'orange')\n",
    "    draw_to_img.ellipse(((40, 20),\n",
    "                  (int(0.2 * width), int(0.2 * height))),'#0e2d7d')"
   ]
  },
  {
   "cell_type": "code",
   "execution_count": null,
   "metadata": {},
   "outputs": [],
   "source": [
    "random_points(draw,50, width, height)# звезды\n",
    "\n",
    "draw.rectangle(((0, height * 0.8), (width, height)), (18, 122, 67)) # трава\n",
    "\n",
    "# месяц\n",
    "month(draw)\n",
    "\n",
    "# ели\n",
    "tree =Tree(draw,width,height,30,250)\n",
    "tree.draw_tree()\n",
    "\n",
    "tree =Tree(draw,width,height,400,300)\n",
    "tree.draw_tree()\n",
    "# дом\n",
    "house = House(width,height,draw)\n",
    "house.draw_house(5)\n",
    "    \n",
    "\n",
    "\n",
    "newImage.save('res.jpg') "
   ]
  },
  {
   "cell_type": "code",
   "execution_count": null,
   "metadata": {},
   "outputs": [],
   "source": [
    "newImage"
   ]
  },
  {
   "cell_type": "markdown",
   "metadata": {},
   "source": [
    ".\n"
   ]
  },
  {
   "cell_type": "markdown",
   "metadata": {},
   "source": [
    "."
   ]
  },
  {
   "cell_type": "markdown",
   "metadata": {},
   "source": [
    " ."
   ]
  },
  {
   "cell_type": "markdown",
   "metadata": {},
   "source": [
    "."
   ]
  },
  {
   "cell_type": "markdown",
   "metadata": {},
   "source": [
    "Лаб 2"
   ]
  },
  {
   "cell_type": "markdown",
   "metadata": {},
   "source": [
    "1. Поменяйте цвета своих изображений на противоположные в RGB\n",
    "используя прямые вычисления значений для каждого из канал"
   ]
  },
  {
   "cell_type": "code",
   "execution_count": null,
   "metadata": {},
   "outputs": [],
   "source": [
    "import matplotlib.pyplot as plt\n",
    "from urllib.request import urlopen"
   ]
  },
  {
   "cell_type": "code",
   "execution_count": null,
   "metadata": {},
   "outputs": [],
   "source": [
    "def img_show(imgs, title='', ax=None):\n",
    "    ax.imshow(imgs)\n",
    "    ax.set_title(title)\n",
    "    "
   ]
  },
  {
   "cell_type": "code",
   "execution_count": null,
   "metadata": {},
   "outputs": [],
   "source": [
    "def imgs_show(count, imgs, titles):\n",
    "    # Создаем сетку графиков с указанным количеством столбцов\n",
    "    fig, axs = plt.subplots(1, count, figsize=(15, 10))\n",
    "    \n",
    "    # Проходимся по каждому изображению и его заголовку\n",
    "    for i in range(count):\n",
    "        # Отображаем изображение с указанным заголовком\n",
    "        img_show( imgs[i], titles[i], axs[i])\n",
    "        \n"
   ]
  },
  {
   "cell_type": "code",
   "execution_count": null,
   "metadata": {},
   "outputs": [],
   "source": [
    "url_img2_1 = \"https://images.unsplash.com/photo-1707879487614-72b421e4393f?q=80&w=1887&auto=format&fit=crop&ixlib=rb-4.0.3&ixid=M3wxMjA3fDB8MHxwaG90by1wYWdlfHx8fGVufDB8fHx8fA%3D%3D\"\n",
    "url_img2_2 = \"https://images.unsplash.com/photo-1682687982029-edb9aecf5f89?q=80&w=2071&auto=format&fit=crop&ixlib=rb-4.0.3&ixid=M3wxMjA3fDF8MHxwaG90by1wYWdlfHx8fGVufDB8fHx8fA%3D%3D\"\n",
    "url_img2_3 = \"https://images.unsplash.com/photo-1659347257477-c965ea8aff9d?q=80&w=1887&auto=format&fit=crop&ixlib=rb-4.0.3&ixid=M3wxMjA3fDB8MHxwaG90by1wYWdlfHx8fGVufDB8fHx8fA%3D%3D\""
   ]
  },
  {
   "cell_type": "code",
   "execution_count": null,
   "metadata": {},
   "outputs": [],
   "source": [
    "img2_1 = Image.open(urlopen(url_img2_1))\n",
    "img2_2 = Image.open(urlopen(url_img2_2))\n",
    "img2_3 = Image.open(urlopen(url_img2_3))"
   ]
  },
  {
   "cell_type": "code",
   "execution_count": null,
   "metadata": {},
   "outputs": [],
   "source": [
    "def the_opposite_colors(img):\n",
    "    # Получаем размеры изображения\n",
    "    width, height = img.size\n",
    "\n",
    "    # Создаем новое изображение с такими же размерами и пустым фоном\n",
    "    new_img = Image.new(\"RGB\", (width, height))\n",
    "\n",
    "    # Проходим по каждому пикселю изображения\n",
    "    for x in range(width):\n",
    "        for y in range(height):\n",
    "            # Получаем значения RGB для текущего пикселя\n",
    "            r, g, b = img.getpixel((x, y))\n",
    "            \n",
    "            # Инвертируем значения RGB\n",
    "            inverted_r = 255 - r\n",
    "            inverted_g = 255 - g\n",
    "            inverted_b = 255 - b\n",
    "            \n",
    "            # Устанавливаем новые значения RGB для пикселя в новом изображении\n",
    "            new_img.putpixel((x, y), (inverted_r, inverted_g, inverted_b))\n",
    "    \n",
    "    return new_img\n"
   ]
  },
  {
   "cell_type": "code",
   "execution_count": null,
   "metadata": {},
   "outputs": [],
   "source": [
    "inverted_img = the_opposite_colors(newImage)\n",
    "imgs_show(2, [newImage, inverted_img], ['до инверсии цветов', 'после инверсии цветов'])"
   ]
  },
  {
   "cell_type": "code",
   "execution_count": null,
   "metadata": {},
   "outputs": [],
   "source": [
    "inverted_img1 = the_opposite_colors(img2_1)\n",
    "imgs_show(2,[img2_1,inverted_img1],['до инверсии цветов','после инверсии цветов'])"
   ]
  },
  {
   "cell_type": "code",
   "execution_count": null,
   "metadata": {},
   "outputs": [],
   "source": [
    "inverted_img2 = the_opposite_colors(img2_2)\n",
    "imgs_show(2,[img2_2,inverted_img2],['до инверсии цветов','после инверсии цветов'])"
   ]
  },
  {
   "cell_type": "code",
   "execution_count": null,
   "metadata": {},
   "outputs": [],
   "source": [
    "inverted_img3 = the_opposite_colors(img2_3)\n",
    "imgs_show(2,[img2_3,inverted_img3],['до инверсии цветов','после инверсии цветов'])"
   ]
  },
  {
   "cell_type": "markdown",
   "metadata": {},
   "source": [
    "2. Получите инвертированные по цвету изображения с использованием\n",
    "метода invert из модуля ImageOps "
   ]
  },
  {
   "cell_type": "code",
   "execution_count": null,
   "metadata": {},
   "outputs": [],
   "source": [
    "from PIL import ImageOps"
   ]
  },
  {
   "cell_type": "code",
   "execution_count": null,
   "metadata": {},
   "outputs": [],
   "source": [
    "inverted_auto_img = ImageOps.invert(newImage)\n",
    "\n",
    "imgs_show(3,[newImage,\n",
    "             inverted_img, \n",
    "             inverted_auto_img],\n",
    "             ['до инверсии цветов',\n",
    "              'после инверсии цветов',\n",
    "              'с использованием invert'])"
   ]
  },
  {
   "cell_type": "code",
   "execution_count": null,
   "metadata": {},
   "outputs": [],
   "source": [
    "inverted_auto_img1 = ImageOps.invert(img2_1)\n",
    "\n",
    "imgs_show(3,[img2_1,\n",
    "             inverted_img1, \n",
    "             inverted_auto_img1],\n",
    "             ['до инверсии цветов',\n",
    "              'после инверсии цветов',\n",
    "              'с использованием invert'])"
   ]
  },
  {
   "cell_type": "code",
   "execution_count": null,
   "metadata": {},
   "outputs": [],
   "source": [
    "inverted_auto_img2 = ImageOps.invert(img2_2)\n",
    "\n",
    "imgs_show(3,[img2_2,\n",
    "             inverted_img2, \n",
    "             inverted_auto_img2],\n",
    "             ['до инверсии цветов',\n",
    "              'после инверсии цветов',\n",
    "              'с использованием invert'])"
   ]
  },
  {
   "cell_type": "code",
   "execution_count": null,
   "metadata": {},
   "outputs": [],
   "source": [
    "inverted_auto_img3 = ImageOps.invert(img2_3)\n",
    "\n",
    "imgs_show(3,[img2_3,\n",
    "             inverted_img3, \n",
    "             inverted_auto_img3],\n",
    "             ['до инверсии цветов',\n",
    "              'после инверсии цветов',\n",
    "              'с использованием invert'])"
   ]
  },
  {
   "cell_type": "markdown",
   "metadata": {},
   "source": [
    "3. Получите Grayscale-изображения (в градациях серого) с использованием\n",
    "метода grayscale из модуля ImageOps библиотеки PIL, а затем раскрасьте\n",
    "полученные изображения методом colorize из того же модуля, используя в\n",
    "качестве пары базовых цветов не белый и черный, какой-то другой набор. Затем поменяйте эти цвета местами, проанализируйте полученные\n",
    "результаты, сделайте выводы. Попробуйте после colorize использовать метод\n",
    "invert из модуля ImageOps, что получится в этом случае ?"
   ]
  },
  {
   "cell_type": "code",
   "execution_count": null,
   "metadata": {},
   "outputs": [],
   "source": [
    "def img_scale(img):\n",
    "    # Получение Grayscale-изображения из оригинального\n",
    "    grayscale_img = ImageOps.grayscale(img)\n",
    "\n",
    "    # Раскрашиваем Grayscale-изображение\n",
    "    colorized_img = ImageOps.colorize(grayscale_img, \"#FF5733\", \"#3333FF\")\n",
    "\n",
    "    # Меняем цвета местами и снова раскрашиваем\n",
    "    colorized_swapped_img = ImageOps.colorize(grayscale_img, \"#3333FF\", \"#FF5733\")\n",
    "\n",
    "    imgs_show(4,[img,\n",
    "                 grayscale_img,\n",
    "                 colorized_img, \n",
    "                 colorized_swapped_img],\n",
    "                 ['img',\n",
    "                'grayscale_img',\n",
    "                'colorized_img',\n",
    "                'colorized_swapped_img'])"
   ]
  },
  {
   "cell_type": "code",
   "execution_count": null,
   "metadata": {},
   "outputs": [],
   "source": [
    "img_scale(newImage)"
   ]
  },
  {
   "cell_type": "code",
   "execution_count": null,
   "metadata": {},
   "outputs": [],
   "source": [
    "img_scale(img2_1)"
   ]
  },
  {
   "cell_type": "code",
   "execution_count": null,
   "metadata": {},
   "outputs": [],
   "source": [
    "img_scale(img2_2)"
   ]
  },
  {
   "cell_type": "code",
   "execution_count": null,
   "metadata": {},
   "outputs": [],
   "source": [
    "img_scale(img2_3)"
   ]
  },
  {
   "cell_type": "markdown",
   "metadata": {},
   "source": [
    "4. Используя метод transpose, поверните свои изображения на 90 градусов\n",
    "против часовой стрелки"
   ]
  },
  {
   "cell_type": "code",
   "execution_count": null,
   "metadata": {},
   "outputs": [],
   "source": [
    "imgs_show(4, [newImage.transpose(Image.ROTATE_90),\n",
    "              img2_1.transpose(Image.ROTATE_90),\n",
    "              img2_2.transpose(Image.ROTATE_90), \n",
    "              img2_3.transpose(Image.ROTATE_90)],\n",
    "          ['', '', '', ''])"
   ]
  },
  {
   "cell_type": "markdown",
   "metadata": {},
   "source": [
    "5. Создайте bmp-изображения с 8, 12, 16 и 24 цветами из ранее полученных\n",
    "картинок.\n"
   ]
  },
  {
   "cell_type": "code",
   "execution_count": null,
   "metadata": {},
   "outputs": [],
   "source": [
    "def bmp_image(img, count):\n",
    "    return img.convert(\"P\", palette=Image.ADAPTIVE, colors=count)"
   ]
  },
  {
   "cell_type": "code",
   "execution_count": null,
   "metadata": {},
   "outputs": [],
   "source": [
    "imgs_show(2, [bmp_image(newImage,8),\n",
    "              bmp_image(newImage,12)\n",
    "              ],\n",
    "              ['', ''])\n",
    "imgs_show(2, [\n",
    "              bmp_image(newImage,16), \n",
    "              bmp_image(newImage,24)\n",
    "              ],\n",
    "              ['', ''])"
   ]
  },
  {
   "cell_type": "code",
   "execution_count": null,
   "metadata": {},
   "outputs": [],
   "source": [
    "imgs_show(2, [bmp_image(img2_1,8),\n",
    "              bmp_image(img2_1,12)\n",
    "              ],\n",
    "              ['', ''])\n",
    "imgs_show(2, [\n",
    "              bmp_image(img2_1,16), \n",
    "              bmp_image(img2_1,24)\n",
    "              ],\n",
    "              ['', ''])"
   ]
  },
  {
   "cell_type": "code",
   "execution_count": null,
   "metadata": {},
   "outputs": [],
   "source": [
    "imgs_show(2, [bmp_image(img2_2,8),\n",
    "              bmp_image(img2_2,12)\n",
    "              ],\n",
    "              ['', ''])\n",
    "imgs_show(2, [\n",
    "              bmp_image(img2_2,16), \n",
    "              bmp_image(img2_2,24)\n",
    "              ],\n",
    "              ['', ''])"
   ]
  },
  {
   "cell_type": "code",
   "execution_count": null,
   "metadata": {},
   "outputs": [],
   "source": [
    "imgs_show(2, [bmp_image(img2_3,8),\n",
    "              bmp_image(img2_3,12)\n",
    "              ],\n",
    "              ['', ''])\n",
    "imgs_show(2, [\n",
    "              bmp_image(img2_3,16), \n",
    "              bmp_image(img2_3,24)\n",
    "              ],\n",
    "              ['', ''])"
   ]
  },
  {
   "cell_type": "markdown",
   "metadata": {},
   "source": [
    "."
   ]
  },
  {
   "cell_type": "markdown",
   "metadata": {},
   "source": [
    "."
   ]
  },
  {
   "cell_type": "markdown",
   "metadata": {},
   "source": [
    "."
   ]
  },
  {
   "cell_type": "markdown",
   "metadata": {},
   "source": [
    "."
   ]
  },
  {
   "cell_type": "markdown",
   "metadata": {},
   "source": [
    "Лаб 3"
   ]
  },
  {
   "cell_type": "markdown",
   "metadata": {},
   "source": [
    "1. Возьмите полученную в 1-й лабораторной работе картинку и переведите её\n",
    "в grayscale-режим (Y = 0.2126⋅ R + 0.7152⋅ G + 0.0722⋅ B), далее\n",
    "используйте это преобразованное изображение вместе с тремя\n",
    "полутоновыми картинками с образовательного портала"
   ]
  },
  {
   "cell_type": "code",
   "execution_count": null,
   "metadata": {},
   "outputs": [],
   "source": [
    "# Преобразуем изображение в Grayscale с помощью указанной формулы\n",
    "def to_grayscale(set_img):\n",
    "    img = set_img.convert(\"RGB\")\n",
    "    width, height = img.size\n",
    "    for x in range(width):\n",
    "        for y in range(height):\n",
    "            r, g, b = img.getpixel((x, y))\n",
    "            # Применяем формулу для преобразования в Grayscale\n",
    "            gray = int(0.2126 * r + 0.7152 * g + 0.0722 * b)\n",
    "            img.putpixel((x, y), (gray, gray, gray))\n",
    "    return img"
   ]
  },
  {
   "cell_type": "code",
   "execution_count": null,
   "metadata": {},
   "outputs": [],
   "source": [
    "img3_1 = to_grayscale(newImage)\n",
    "\n",
    "\n",
    "imgs_show(2, [\n",
    "              newImage, \n",
    "              img3_1\n",
    "              ],\n",
    "              ['', ''])\n"
   ]
  },
  {
   "cell_type": "code",
   "execution_count": null,
   "metadata": {},
   "outputs": [],
   "source": [
    "img3_2 = Image.open(r\"C:\\Users\\nikit\\OneDrive\\Рабочий стол\\ро\\Coins.jpg\")\n",
    "img3_3 = Image.open(r\"C:\\Users\\nikit\\OneDrive\\Рабочий стол\\ро\\arch.jpg\")\n",
    "img3_4 = Image.open(r\"C:\\Users\\nikit\\OneDrive\\Рабочий стол\\ро\\rice.jpg\")"
   ]
  },
  {
   "cell_type": "markdown",
   "metadata": {},
   "source": [
    "2. Постройте гистограммы изображений"
   ]
  },
  {
   "cell_type": "code",
   "execution_count": null,
   "metadata": {},
   "outputs": [],
   "source": [
    "from matplotlib.pyplot import hist\n",
    "import numpy as np\n",
    "\n",
    "%matplotlib inline"
   ]
  },
  {
   "cell_type": "code",
   "execution_count": null,
   "metadata": {},
   "outputs": [],
   "source": [
    "def hist_show(imgs, title, ax):\n",
    "    ax.hist(np.ravel(imgs), bins=256)\n",
    "    ax.set_title(title)\n",
    "    "
   ]
  },
  {
   "cell_type": "code",
   "execution_count": null,
   "metadata": {},
   "outputs": [],
   "source": [
    "def hists_show(imgs):\n",
    "    # Создаем сетку графиков с указанным количеством столбцов\n",
    "    fig, axs = plt.subplots(1, 2, figsize=(15, 10))\n",
    "    \n",
    "    # Отображаем изображение с указанным заголовком\n",
    "    img_show( imgs,'',axs[0])\n",
    "    hist_show( imgs, '', axs[1])"
   ]
  },
  {
   "cell_type": "code",
   "execution_count": null,
   "metadata": {},
   "outputs": [],
   "source": [
    "hists_show(img3_1)"
   ]
  },
  {
   "cell_type": "code",
   "execution_count": null,
   "metadata": {},
   "outputs": [],
   "source": [
    "hists_show(img3_2)"
   ]
  },
  {
   "cell_type": "code",
   "execution_count": null,
   "metadata": {},
   "outputs": [],
   "source": [
    "hists_show(img3_3)"
   ]
  },
  {
   "cell_type": "code",
   "execution_count": null,
   "metadata": {},
   "outputs": [],
   "source": [
    "hists_show(img3_4)"
   ]
  },
  {
   "cell_type": "markdown",
   "metadata": {},
   "source": [
    "3. Подберите и выполните логарифмические преобразования изображений с\n",
    "помощью попиксельной обработки, постройте гистограммы полученных\n",
    "изображений. Совет: чтобы видеть различия в исходных и получающихся картинках, располагайте их рядом, используя subplot."
   ]
  },
  {
   "cell_type": "code",
   "execution_count": null,
   "metadata": {},
   "outputs": [],
   "source": [
    "def img_hist_show(img, title_img, ax_hist):\n",
    "    ax_hist.hist(np.ravel(img[0]), bins=256, alpha=0.5, label=title_img[0])\n",
    "    ax_hist.hist(np.ravel(img[1]), bins=256, alpha=0.5, label=title_img[1])\n",
    "    ax_hist.legend()\n",
    "    ax_hist.set_title('Гистограмма ингтенсивности цвета')"
   ]
  },
  {
   "cell_type": "code",
   "execution_count": null,
   "metadata": {},
   "outputs": [],
   "source": [
    "def hist_transform_show(imgs, title, ax):\n",
    "    ax.hist(np.ravel(imgs), bins=256)\n",
    "    ax.set_title(title)\n",
    "\n",
    "def transform_show(imgs):\n",
    "    # Создаем сетку графиков с указанным количеством столбцов\n",
    "    fig, axs = plt.subplots(1, 3, figsize=(30, 10))\n",
    "\n",
    "    # Отображаем изображение с указанным заголовком\n",
    "    img_show( imgs[0],'',axs[0])\n",
    "    img_show( imgs[1],'',axs[1])\n",
    "    img_hist_show(imgs,['оригинальное','Преобразованное'],axs[2])"
   ]
  },
  {
   "cell_type": "code",
   "execution_count": null,
   "metadata": {},
   "outputs": [],
   "source": [
    "def transform(f, img):\n",
    "    img_copy = img.copy() # Преобразовывать будем копию исходного изображения\n",
    "    draw = ImageDraw.Draw(img_copy) #Создаем инструмент для рисования\n",
    "    width = img_copy.size[0] #Определяем ширину\n",
    "    height = img_copy.size[1] #Определяем высоту \n",
    "    pixels = img_copy.load() #Выгружаем значения пикселей\n",
    "    for i in range(width):\n",
    "        for j in range(height):\n",
    "            r, g, b = pixels[i, j]\n",
    "            S = tuple(map(f, (r, g, b)))\n",
    "            draw.point((i, j), S)\n",
    "\n",
    "    transform_show([img,img_copy])"
   ]
  },
  {
   "cell_type": "code",
   "execution_count": null,
   "metadata": {},
   "outputs": [],
   "source": [
    "def f_log(x):\n",
    "    c = 35\n",
    "    return int(c * np.log(x + 1))"
   ]
  },
  {
   "cell_type": "code",
   "execution_count": null,
   "metadata": {},
   "outputs": [],
   "source": [
    "transform(f_log, img3_1)"
   ]
  },
  {
   "cell_type": "code",
   "execution_count": null,
   "metadata": {},
   "outputs": [],
   "source": [
    "transform(f_log, img3_2)"
   ]
  },
  {
   "cell_type": "code",
   "execution_count": null,
   "metadata": {},
   "outputs": [],
   "source": [
    "transform(f_log, img3_3)"
   ]
  },
  {
   "cell_type": "code",
   "execution_count": null,
   "metadata": {},
   "outputs": [],
   "source": [
    "transform(f_log, img3_3)"
   ]
  },
  {
   "cell_type": "code",
   "execution_count": null,
   "metadata": {},
   "outputs": [],
   "source": [
    "transform(f_log, img3_4)"
   ]
  },
  {
   "cell_type": "markdown",
   "metadata": {},
   "source": [
    "4. Подберите степенные преобразования и выполните гамма-коррекцию\n",
    "изображений, постройте гистограммы полученных изображений. Что можно\n",
    "сказать про результаты преобразований? Что дает анализ гистограмм"
   ]
  },
  {
   "cell_type": "code",
   "execution_count": null,
   "metadata": {},
   "outputs": [],
   "source": [
    "def f_gamma(x):\n",
    " c = 0.0001\n",
    " return min(255, int(c * x**2.5))\n"
   ]
  },
  {
   "cell_type": "code",
   "execution_count": null,
   "metadata": {},
   "outputs": [],
   "source": [
    "transform(f_gamma, img3_1)"
   ]
  },
  {
   "cell_type": "code",
   "execution_count": null,
   "metadata": {},
   "outputs": [],
   "source": [
    "transform(f_gamma, img3_2)"
   ]
  },
  {
   "cell_type": "code",
   "execution_count": null,
   "metadata": {},
   "outputs": [],
   "source": [
    "transform(f_gamma, img3_3)"
   ]
  },
  {
   "cell_type": "code",
   "execution_count": null,
   "metadata": {},
   "outputs": [],
   "source": [
    "transform(f_gamma, img3_4)"
   ]
  },
  {
   "cell_type": "markdown",
   "metadata": {},
   "source": [
    "5. Поэкспериментируйте с кусочно-линейными преобразованиями вид"
   ]
  },
  {
   "cell_type": "markdown",
   "metadata": {},
   "source": [
    "1е кусочно-линейных преобразование"
   ]
  },
  {
   "attachments": {
    "image.png": {
     "image/png": "[encoded data removed]"
    }
   },
   "cell_type": "markdown",
   "metadata": {},
   "source": [
    "![image.png](attachment:image.png)"
   ]
  },
  {
   "cell_type": "code",
   "execution_count": null,
   "metadata": {},
   "outputs": [],
   "source": [
    "def f1(x): \n",
    "    x1 = 50\n",
    "    x2 = 60\n",
    "    if x < x1 or x > x2:\n",
    "        return int(2 * x)\n",
    "    return int(0.5 * x)"
   ]
  },
  {
   "cell_type": "code",
   "execution_count": null,
   "metadata": {},
   "outputs": [],
   "source": [
    "transform(f1, img3_1)"
   ]
  },
  {
   "cell_type": "code",
   "execution_count": null,
   "metadata": {},
   "outputs": [],
   "source": [
    "transform(f1, img3_2)"
   ]
  },
  {
   "cell_type": "code",
   "execution_count": null,
   "metadata": {},
   "outputs": [],
   "source": [
    "transform(f1, img3_3)"
   ]
  },
  {
   "cell_type": "code",
   "execution_count": null,
   "metadata": {},
   "outputs": [],
   "source": [
    "transform(f1, img3_4)"
   ]
  },
  {
   "cell_type": "markdown",
   "metadata": {},
   "source": [
    "2е кусочно-линейных преобразование"
   ]
  },
  {
   "attachments": {
    "image.png": {
     "image/png": "[encoded data removed]"
    }
   },
   "cell_type": "markdown",
   "metadata": {},
   "source": [
    "![image.png](attachment:image.png)"
   ]
  },
  {
   "cell_type": "code",
   "execution_count": null,
   "metadata": {},
   "outputs": [],
   "source": [
    "def f2(x): # интервальная бинаризация \n",
    "    x1 = 50\n",
    "    x2 = 150\n",
    "    if x2 > x > x1:\n",
    "        return 255\n",
    "    return 0"
   ]
  },
  {
   "cell_type": "code",
   "execution_count": null,
   "metadata": {},
   "outputs": [],
   "source": [
    "transform(f2, img3_1)"
   ]
  },
  {
   "cell_type": "code",
   "execution_count": null,
   "metadata": {},
   "outputs": [],
   "source": [
    "transform(f2, img3_2)"
   ]
  },
  {
   "cell_type": "code",
   "execution_count": null,
   "metadata": {},
   "outputs": [],
   "source": [
    "transform(f2, img3_3)"
   ]
  },
  {
   "cell_type": "code",
   "execution_count": null,
   "metadata": {},
   "outputs": [],
   "source": [
    "transform(f2, img3_4)"
   ]
  },
  {
   "cell_type": "markdown",
   "metadata": {},
   "source": [
    "3е кусочно-линейных преобразование"
   ]
  },
  {
   "attachments": {
    "image.png": {
     "image/png": "[encoded data removed]"
    }
   },
   "cell_type": "markdown",
   "metadata": {},
   "source": [
    "![image.png](attachment:image.png)"
   ]
  },
  {
   "cell_type": "code",
   "execution_count": null,
   "metadata": {},
   "outputs": [],
   "source": [
    "def f3(x): \n",
    "    x1 = 50\n",
    "    x2 = 100\n",
    "    if x2 > x > x1:\n",
    "        return int(255)\n",
    "    return int(x)"
   ]
  },
  {
   "cell_type": "code",
   "execution_count": null,
   "metadata": {},
   "outputs": [],
   "source": [
    "transform(f3, img3_1)"
   ]
  },
  {
   "cell_type": "code",
   "execution_count": null,
   "metadata": {},
   "outputs": [],
   "source": [
    "transform(f3, img3_2)"
   ]
  },
  {
   "cell_type": "code",
   "execution_count": null,
   "metadata": {},
   "outputs": [],
   "source": [
    "transform(f3, img3_3)"
   ]
  },
  {
   "cell_type": "code",
   "execution_count": null,
   "metadata": {},
   "outputs": [],
   "source": [
    "transform(f3, img3_4)"
   ]
  },
  {
   "cell_type": "markdown",
   "metadata": {},
   "source": [
    "6. Попробуйте выполнить пороговую сегментацию для многопиковых\n",
    "гистограмм, локализуйте отдельные объекты на изображениях с ее помощью. Что можно сказать про результаты преобразований? Что дает анализ\n",
    "гистограмм?"
   ]
  },
  {
   "cell_type": "code",
   "execution_count": null,
   "metadata": {},
   "outputs": [],
   "source": [
    "def f_bin(x):\n",
    "    return 0 if x in range(95, 110) else 255\n",
    "\n"
   ]
  },
  {
   "cell_type": "code",
   "execution_count": null,
   "metadata": {},
   "outputs": [],
   "source": [
    "transform(f_bin, img3_1)"
   ]
  }
 ],
 "metadata": {
  "kernelspec": {
   "display_name": "Python 3",
   "language": "python",
   "name": "python3"
  },
  "language_info": {
   "codemirror_mode": {
    "name": "ipython",
    "version": 3
   },
   "file_extension": ".py",
   "mimetype": "text/x-python",
   "name": "python",
   "nbconvert_exporter": "python",
   "pygments_lexer": "ipython3",
   "version": "3.12.1"
  }
 },
 "nbformat": 4,
 "nbformat_minor": 2
}
